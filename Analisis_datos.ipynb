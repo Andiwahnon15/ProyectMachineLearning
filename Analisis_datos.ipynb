{
 "cells": [
  {
   "cell_type": "code",
   "execution_count": 64,
   "metadata": {},
   "outputs": [],
   "source": [
    "import pandas as pd\n",
    "import seaborn as sns"
   ]
  },
  {
   "cell_type": "markdown",
   "metadata": {},
   "source": [
    "Hacer una columna resumida del  job title agrupado\n",
    "\n",
    "Organization de las carpetas del proyecto \n",
    "\n",
    "Grafic pair plot \n",
    "\n",
    "Gráficas de correlación"
   ]
  },
  {
   "cell_type": "code",
   "execution_count": 65,
   "metadata": {},
   "outputs": [],
   "source": [
    "url = 'salaries _2.csv'\n",
    "df = pd.read_csv(url)\n"
   ]
  },
  {
   "cell_type": "code",
   "execution_count": 66,
   "metadata": {},
   "outputs": [],
   "source": [
    "df = df.drop(columns=[\"salary_currency\", \"salary\"])"
   ]
  },
  {
   "cell_type": "code",
   "execution_count": 67,
   "metadata": {},
   "outputs": [
    {
     "data": {
      "text/html": [
       "<div>\n",
       "<style scoped>\n",
       "    .dataframe tbody tr th:only-of-type {\n",
       "        vertical-align: middle;\n",
       "    }\n",
       "\n",
       "    .dataframe tbody tr th {\n",
       "        vertical-align: top;\n",
       "    }\n",
       "\n",
       "    .dataframe thead th {\n",
       "        text-align: right;\n",
       "    }\n",
       "</style>\n",
       "<table border=\"1\" class=\"dataframe\">\n",
       "  <thead>\n",
       "    <tr style=\"text-align: right;\">\n",
       "      <th></th>\n",
       "      <th>work_year</th>\n",
       "      <th>experience_level</th>\n",
       "      <th>employment_type</th>\n",
       "      <th>job_title</th>\n",
       "      <th>salary_in_usd</th>\n",
       "      <th>employee_residence</th>\n",
       "      <th>remote_ratio</th>\n",
       "      <th>company_location</th>\n",
       "      <th>company_size</th>\n",
       "    </tr>\n",
       "  </thead>\n",
       "  <tbody>\n",
       "    <tr>\n",
       "      <th>0</th>\n",
       "      <td>2024</td>\n",
       "      <td>MI</td>\n",
       "      <td>FT</td>\n",
       "      <td>Data Scientist</td>\n",
       "      <td>120000</td>\n",
       "      <td>AU</td>\n",
       "      <td>0</td>\n",
       "      <td>AU</td>\n",
       "      <td>S</td>\n",
       "    </tr>\n",
       "    <tr>\n",
       "      <th>1</th>\n",
       "      <td>2024</td>\n",
       "      <td>MI</td>\n",
       "      <td>FT</td>\n",
       "      <td>Data Scientist</td>\n",
       "      <td>70000</td>\n",
       "      <td>AU</td>\n",
       "      <td>0</td>\n",
       "      <td>AU</td>\n",
       "      <td>S</td>\n",
       "    </tr>\n",
       "    <tr>\n",
       "      <th>2</th>\n",
       "      <td>2024</td>\n",
       "      <td>MI</td>\n",
       "      <td>CT</td>\n",
       "      <td>Data Scientist</td>\n",
       "      <td>130000</td>\n",
       "      <td>US</td>\n",
       "      <td>0</td>\n",
       "      <td>US</td>\n",
       "      <td>M</td>\n",
       "    </tr>\n",
       "    <tr>\n",
       "      <th>3</th>\n",
       "      <td>2024</td>\n",
       "      <td>MI</td>\n",
       "      <td>CT</td>\n",
       "      <td>Data Scientist</td>\n",
       "      <td>110000</td>\n",
       "      <td>US</td>\n",
       "      <td>0</td>\n",
       "      <td>US</td>\n",
       "      <td>M</td>\n",
       "    </tr>\n",
       "    <tr>\n",
       "      <th>4</th>\n",
       "      <td>2024</td>\n",
       "      <td>MI</td>\n",
       "      <td>FT</td>\n",
       "      <td>Data Science Manager</td>\n",
       "      <td>240000</td>\n",
       "      <td>US</td>\n",
       "      <td>0</td>\n",
       "      <td>US</td>\n",
       "      <td>M</td>\n",
       "    </tr>\n",
       "    <tr>\n",
       "      <th>...</th>\n",
       "      <td>...</td>\n",
       "      <td>...</td>\n",
       "      <td>...</td>\n",
       "      <td>...</td>\n",
       "      <td>...</td>\n",
       "      <td>...</td>\n",
       "      <td>...</td>\n",
       "      <td>...</td>\n",
       "      <td>...</td>\n",
       "    </tr>\n",
       "    <tr>\n",
       "      <th>16489</th>\n",
       "      <td>2020</td>\n",
       "      <td>SE</td>\n",
       "      <td>FT</td>\n",
       "      <td>Data Scientist</td>\n",
       "      <td>412000</td>\n",
       "      <td>US</td>\n",
       "      <td>100</td>\n",
       "      <td>US</td>\n",
       "      <td>L</td>\n",
       "    </tr>\n",
       "    <tr>\n",
       "      <th>16490</th>\n",
       "      <td>2021</td>\n",
       "      <td>MI</td>\n",
       "      <td>FT</td>\n",
       "      <td>Principal Data Scientist</td>\n",
       "      <td>151000</td>\n",
       "      <td>US</td>\n",
       "      <td>100</td>\n",
       "      <td>US</td>\n",
       "      <td>L</td>\n",
       "    </tr>\n",
       "    <tr>\n",
       "      <th>16491</th>\n",
       "      <td>2020</td>\n",
       "      <td>EN</td>\n",
       "      <td>FT</td>\n",
       "      <td>Data Scientist</td>\n",
       "      <td>105000</td>\n",
       "      <td>US</td>\n",
       "      <td>100</td>\n",
       "      <td>US</td>\n",
       "      <td>S</td>\n",
       "    </tr>\n",
       "    <tr>\n",
       "      <th>16492</th>\n",
       "      <td>2020</td>\n",
       "      <td>EN</td>\n",
       "      <td>CT</td>\n",
       "      <td>Business Data Analyst</td>\n",
       "      <td>100000</td>\n",
       "      <td>US</td>\n",
       "      <td>100</td>\n",
       "      <td>US</td>\n",
       "      <td>L</td>\n",
       "    </tr>\n",
       "    <tr>\n",
       "      <th>16493</th>\n",
       "      <td>2021</td>\n",
       "      <td>SE</td>\n",
       "      <td>FT</td>\n",
       "      <td>Data Science Manager</td>\n",
       "      <td>94665</td>\n",
       "      <td>IN</td>\n",
       "      <td>50</td>\n",
       "      <td>IN</td>\n",
       "      <td>L</td>\n",
       "    </tr>\n",
       "  </tbody>\n",
       "</table>\n",
       "<p>16494 rows × 9 columns</p>\n",
       "</div>"
      ],
      "text/plain": [
       "       work_year experience_level employment_type                 job_title  \\\n",
       "0           2024               MI              FT            Data Scientist   \n",
       "1           2024               MI              FT            Data Scientist   \n",
       "2           2024               MI              CT            Data Scientist   \n",
       "3           2024               MI              CT            Data Scientist   \n",
       "4           2024               MI              FT      Data Science Manager   \n",
       "...          ...              ...             ...                       ...   \n",
       "16489       2020               SE              FT            Data Scientist   \n",
       "16490       2021               MI              FT  Principal Data Scientist   \n",
       "16491       2020               EN              FT            Data Scientist   \n",
       "16492       2020               EN              CT     Business Data Analyst   \n",
       "16493       2021               SE              FT      Data Science Manager   \n",
       "\n",
       "       salary_in_usd employee_residence  remote_ratio company_location  \\\n",
       "0             120000                 AU             0               AU   \n",
       "1              70000                 AU             0               AU   \n",
       "2             130000                 US             0               US   \n",
       "3             110000                 US             0               US   \n",
       "4             240000                 US             0               US   \n",
       "...              ...                ...           ...              ...   \n",
       "16489         412000                 US           100               US   \n",
       "16490         151000                 US           100               US   \n",
       "16491         105000                 US           100               US   \n",
       "16492         100000                 US           100               US   \n",
       "16493          94665                 IN            50               IN   \n",
       "\n",
       "      company_size  \n",
       "0                S  \n",
       "1                S  \n",
       "2                M  \n",
       "3                M  \n",
       "4                M  \n",
       "...            ...  \n",
       "16489            L  \n",
       "16490            L  \n",
       "16491            S  \n",
       "16492            L  \n",
       "16493            L  \n",
       "\n",
       "[16494 rows x 9 columns]"
      ]
     },
     "execution_count": 67,
     "metadata": {},
     "output_type": "execute_result"
    }
   ],
   "source": [
    "df"
   ]
  },
  {
   "cell_type": "code",
   "execution_count": 68,
   "metadata": {},
   "outputs": [
    {
     "data": {
      "text/plain": [
       "(16494, 9)"
      ]
     },
     "execution_count": 68,
     "metadata": {},
     "output_type": "execute_result"
    }
   ],
   "source": [
    "df.shape"
   ]
  },
  {
   "cell_type": "code",
   "execution_count": 69,
   "metadata": {},
   "outputs": [
    {
     "data": {
      "text/plain": [
       "work_year              int64\n",
       "experience_level      object\n",
       "employment_type       object\n",
       "job_title             object\n",
       "salary_in_usd          int64\n",
       "employee_residence    object\n",
       "remote_ratio           int64\n",
       "company_location      object\n",
       "company_size          object\n",
       "dtype: object"
      ]
     },
     "execution_count": 69,
     "metadata": {},
     "output_type": "execute_result"
    }
   ],
   "source": [
    "df.dtypes"
   ]
  },
  {
   "cell_type": "code",
   "execution_count": 70,
   "metadata": {},
   "outputs": [
    {
     "name": "stdout",
     "output_type": "stream",
     "text": [
      "<class 'pandas.core.frame.DataFrame'>\n",
      "RangeIndex: 16494 entries, 0 to 16493\n",
      "Data columns (total 9 columns):\n",
      " #   Column              Non-Null Count  Dtype \n",
      "---  ------              --------------  ----- \n",
      " 0   work_year           16494 non-null  int64 \n",
      " 1   experience_level    16494 non-null  object\n",
      " 2   employment_type     16494 non-null  object\n",
      " 3   job_title           16494 non-null  object\n",
      " 4   salary_in_usd       16494 non-null  int64 \n",
      " 5   employee_residence  16494 non-null  object\n",
      " 6   remote_ratio        16494 non-null  int64 \n",
      " 7   company_location    16494 non-null  object\n",
      " 8   company_size        16494 non-null  object\n",
      "dtypes: int64(3), object(6)\n",
      "memory usage: 1.1+ MB\n"
     ]
    }
   ],
   "source": [
    "df.info()"
   ]
  },
  {
   "cell_type": "code",
   "execution_count": 71,
   "metadata": {},
   "outputs": [
    {
     "data": {
      "text/html": [
       "<div>\n",
       "<style scoped>\n",
       "    .dataframe tbody tr th:only-of-type {\n",
       "        vertical-align: middle;\n",
       "    }\n",
       "\n",
       "    .dataframe tbody tr th {\n",
       "        vertical-align: top;\n",
       "    }\n",
       "\n",
       "    .dataframe thead th {\n",
       "        text-align: right;\n",
       "    }\n",
       "</style>\n",
       "<table border=\"1\" class=\"dataframe\">\n",
       "  <thead>\n",
       "    <tr style=\"text-align: right;\">\n",
       "      <th></th>\n",
       "      <th>work_year</th>\n",
       "      <th>salary_in_usd</th>\n",
       "      <th>remote_ratio</th>\n",
       "    </tr>\n",
       "  </thead>\n",
       "  <tbody>\n",
       "    <tr>\n",
       "      <th>count</th>\n",
       "      <td>16494.000000</td>\n",
       "      <td>16494.000000</td>\n",
       "      <td>16494.000000</td>\n",
       "    </tr>\n",
       "    <tr>\n",
       "      <th>mean</th>\n",
       "      <td>2023.224991</td>\n",
       "      <td>149713.575725</td>\n",
       "      <td>32.044986</td>\n",
       "    </tr>\n",
       "    <tr>\n",
       "      <th>std</th>\n",
       "      <td>0.713405</td>\n",
       "      <td>68516.136918</td>\n",
       "      <td>46.260201</td>\n",
       "    </tr>\n",
       "    <tr>\n",
       "      <th>min</th>\n",
       "      <td>2020.000000</td>\n",
       "      <td>15000.000000</td>\n",
       "      <td>0.000000</td>\n",
       "    </tr>\n",
       "    <tr>\n",
       "      <th>25%</th>\n",
       "      <td>2023.000000</td>\n",
       "      <td>101517.500000</td>\n",
       "      <td>0.000000</td>\n",
       "    </tr>\n",
       "    <tr>\n",
       "      <th>50%</th>\n",
       "      <td>2023.000000</td>\n",
       "      <td>141300.000000</td>\n",
       "      <td>0.000000</td>\n",
       "    </tr>\n",
       "    <tr>\n",
       "      <th>75%</th>\n",
       "      <td>2024.000000</td>\n",
       "      <td>185900.000000</td>\n",
       "      <td>100.000000</td>\n",
       "    </tr>\n",
       "    <tr>\n",
       "      <th>max</th>\n",
       "      <td>2024.000000</td>\n",
       "      <td>800000.000000</td>\n",
       "      <td>100.000000</td>\n",
       "    </tr>\n",
       "  </tbody>\n",
       "</table>\n",
       "</div>"
      ],
      "text/plain": [
       "          work_year  salary_in_usd  remote_ratio\n",
       "count  16494.000000   16494.000000  16494.000000\n",
       "mean    2023.224991  149713.575725     32.044986\n",
       "std        0.713405   68516.136918     46.260201\n",
       "min     2020.000000   15000.000000      0.000000\n",
       "25%     2023.000000  101517.500000      0.000000\n",
       "50%     2023.000000  141300.000000      0.000000\n",
       "75%     2024.000000  185900.000000    100.000000\n",
       "max     2024.000000  800000.000000    100.000000"
      ]
     },
     "execution_count": 71,
     "metadata": {},
     "output_type": "execute_result"
    }
   ],
   "source": [
    "df.describe()"
   ]
  },
  {
   "cell_type": "code",
   "execution_count": 74,
   "metadata": {},
   "outputs": [
    {
     "name": "stderr",
     "output_type": "stream",
     "text": [
      "c:\\Users\\germa\\anaconda3\\Lib\\site-packages\\seaborn\\_oldcore.py:1119: FutureWarning: use_inf_as_na option is deprecated and will be removed in a future version. Convert inf values to NaN before operating instead.\n",
      "  with pd.option_context('mode.use_inf_as_na', True):\n",
      "c:\\Users\\germa\\anaconda3\\Lib\\site-packages\\seaborn\\_oldcore.py:1119: FutureWarning: use_inf_as_na option is deprecated and will be removed in a future version. Convert inf values to NaN before operating instead.\n",
      "  with pd.option_context('mode.use_inf_as_na', True):\n",
      "c:\\Users\\germa\\anaconda3\\Lib\\site-packages\\seaborn\\_oldcore.py:1119: FutureWarning: use_inf_as_na option is deprecated and will be removed in a future version. Convert inf values to NaN before operating instead.\n",
      "  with pd.option_context('mode.use_inf_as_na', True):\n"
     ]
    },
    {
     "data": {
      "text/plain": [
       "<seaborn.axisgrid.PairGrid at 0x221d3ee9c50>"
      ]
     },
     "execution_count": 74,
     "metadata": {},
     "output_type": "execute_result"
    },
    {
     "data": {
      "image/png": "[encoded data removed]",
      "text/plain": [
       "<Figure size 750x750 with 12 Axes>"
      ]
     },
     "metadata": {},
     "output_type": "display_data"
    }
   ],
   "source": [
    "sns.pairplot(df)"
   ]
  },
  {
   "cell_type": "code",
   "execution_count": 45,
   "metadata": {},
   "outputs": [
    {
     "data": {
      "text/plain": [
       "4"
      ]
     },
     "execution_count": 45,
     "metadata": {},
     "output_type": "execute_result"
    }
   ],
   "source": [
    "df.employment_type.nunique()"
   ]
  },
  {
   "cell_type": "code",
   "execution_count": 46,
   "metadata": {},
   "outputs": [
    {
     "data": {
      "text/plain": [
       "employment_type\n",
       "FT    16414\n",
       "PT       38\n",
       "CT       28\n",
       "FL       14\n",
       "Name: count, dtype: int64"
      ]
     },
     "execution_count": 46,
     "metadata": {},
     "output_type": "execute_result"
    }
   ],
   "source": [
    "df['employment_type'].value_counts()"
   ]
  },
  {
   "cell_type": "code",
   "execution_count": 47,
   "metadata": {},
   "outputs": [
    {
     "data": {
      "text/plain": [
       "4"
      ]
     },
     "execution_count": 47,
     "metadata": {},
     "output_type": "execute_result"
    }
   ],
   "source": [
    "df.experience_level.nunique()"
   ]
  },
  {
   "cell_type": "code",
   "execution_count": 48,
   "metadata": {},
   "outputs": [
    {
     "data": {
      "text/plain": [
       "experience_level\n",
       "SE    10652\n",
       "MI     4024\n",
       "EN     1319\n",
       "EX      499\n",
       "Name: count, dtype: int64"
      ]
     },
     "execution_count": 48,
     "metadata": {},
     "output_type": "execute_result"
    }
   ],
   "source": [
    "df['experience_level'].value_counts()"
   ]
  },
  {
   "cell_type": "code",
   "execution_count": 49,
   "metadata": {},
   "outputs": [
    {
     "data": {
      "text/plain": [
       "155"
      ]
     },
     "execution_count": 49,
     "metadata": {},
     "output_type": "execute_result"
    }
   ],
   "source": [
    "df.job_title.nunique()"
   ]
  },
  {
   "cell_type": "code",
   "execution_count": 50,
   "metadata": {},
   "outputs": [
    {
     "data": {
      "text/plain": [
       "job_title\n",
       "Data Engineer                    3456\n",
       "Data Scientist                   3312\n",
       "Data Analyst                     2428\n",
       "Machine Learning Engineer        1703\n",
       "Research Scientist                529\n",
       "                                 ... \n",
       "Quantitative Research Analyst       1\n",
       "AWS Data Architect                  1\n",
       "Analytics Engineering Manager       1\n",
       "Marketing Data Scientist            1\n",
       "Data Analytics Associate            1\n",
       "Name: count, Length: 155, dtype: int64"
      ]
     },
     "execution_count": 50,
     "metadata": {},
     "output_type": "execute_result"
    }
   ],
   "source": [
    "df['job_title'].value_counts()"
   ]
  },
  {
   "cell_type": "code",
   "execution_count": 58,
   "metadata": {},
   "outputs": [
    {
     "data": {
      "text/plain": [
       "job_title\n",
       "Data Engineer                    0.209531\n",
       "Data Scientist                   0.200800\n",
       "Data Analyst                     0.147205\n",
       "Machine Learning Engineer        0.103250\n",
       "Research Scientist               0.032072\n",
       "                                   ...   \n",
       "Quantitative Research Analyst    0.000061\n",
       "AWS Data Architect               0.000061\n",
       "Analytics Engineering Manager    0.000061\n",
       "Marketing Data Scientist         0.000061\n",
       "Data Analytics Associate         0.000061\n",
       "Name: proportion, Length: 155, dtype: float64"
      ]
     },
     "execution_count": 58,
     "metadata": {},
     "output_type": "execute_result"
    }
   ],
   "source": [
    "df['job_title'].value_counts(normalize=True)"
   ]
  },
  {
   "cell_type": "code",
   "execution_count": 51,
   "metadata": {},
   "outputs": [
    {
     "data": {
      "text/plain": [
       "array(['Data Scientist', 'Data Science Manager',\n",
       "       'Business Intelligence Engineer', 'Data Architect', 'Data Analyst',\n",
       "       'Business Intelligence', 'ML Engineer', 'Data Modeler',\n",
       "       'Machine Learning Engineer', 'Data Integration Specialist',\n",
       "       'Research Scientist', 'Data Engineer', 'Data Product Manager',\n",
       "       'Data Manager', 'Data Visualization Specialist', 'Data Science',\n",
       "       'Data Specialist', 'Business Intelligence Lead',\n",
       "       'Research Analyst', 'Business Intelligence Analyst', 'AI Engineer',\n",
       "       'AI Software Engineer', 'Machine Learning Scientist',\n",
       "       'Data Science Engineer', 'Applied Scientist',\n",
       "       'Machine Learning Operations Engineer', 'Analytics Engineer',\n",
       "       'Data Management Analyst',\n",
       "       'Encounter Data Management Professional',\n",
       "       'Data Analytics Specialist', 'Head of Data', 'Data Analytics Lead',\n",
       "       'Research Engineer', 'AI Scientist',\n",
       "       'Business Intelligence Developer', 'Machine Learning Developer',\n",
       "       'Data Management Specialist', 'Data Infrastructure Engineer',\n",
       "       'BI Developer', 'Admin & Data Analyst', 'Insight Analyst',\n",
       "       'Consultant Data Engineer', 'Business Intelligence Manager',\n",
       "       'Manager Data Management', 'Data Quality Manager',\n",
       "       'Data Analytics Manager', 'Robotics Engineer',\n",
       "       'Business Intelligence Specialist', 'Data Operations Analyst',\n",
       "       'Director of Business Intelligence', 'Data Product Owner',\n",
       "       'Data Operations Manager', 'AI Research Scientist',\n",
       "       'Data Operations Specialist', 'Bear Robotics',\n",
       "       'Data Science Consultant', 'Data Lead',\n",
       "       'Data Operations Associate', 'AI Architect', 'Lead Data Scientist',\n",
       "       'MLOps Engineer', 'BI Analyst', 'Applied Research Scientist',\n",
       "       'Prompt Engineer', 'Data Integration Engineer',\n",
       "       'Machine Learning Infrastructure Engineer', 'Data Developer',\n",
       "       'CRM Data Analyst', 'ETL Developer', 'Cloud Database Engineer',\n",
       "       'Data Science Analyst', 'Data Science Practitioner',\n",
       "       'BI Data Analyst', 'Applied Data Scientist',\n",
       "       'Data Quality Engineer', 'Computational Biologist',\n",
       "       'Big Data Engineer', 'Data Analytics Associate',\n",
       "       'Data Reporting Analyst', 'Data Management Consultant',\n",
       "       'Data Quality Analyst', 'Robotics Software Engineer',\n",
       "       'Machine Learning Researcher', 'Data DevOps Engineer',\n",
       "       'Data Science Director', 'Data Strategist', 'Big Data Developer',\n",
       "       'Quantitative Research Analyst', 'Lead Machine Learning Engineer',\n",
       "       'Machine Learning Research Engineer', 'Data Analytics Consultant',\n",
       "       'AI Research Engineer', 'AI Programmer', 'ETL Engineer',\n",
       "       'AI Product Manager', 'AI Developer', 'Computer Vision Engineer',\n",
       "       'Head of Machine Learning', 'Data Analyst Lead',\n",
       "       'Data Integration Developer', 'ML Ops Engineer',\n",
       "       'Data Pipeline Engineer', 'Lead Data Analyst', 'Data Science Lead',\n",
       "       'Director of Data Science', 'Managing Director Data Science',\n",
       "       'Business Data Analyst', 'NLP Engineer',\n",
       "       'Marketing Data Scientist', 'Deep Learning Engineer',\n",
       "       'Machine Learning Modeler', 'Decision Scientist',\n",
       "       'Financial Data Analyst', 'Data Strategy Manager',\n",
       "       'Data Visualization Engineer', 'Azure Data Engineer',\n",
       "       'Principal Data Scientist', 'Staff Data Analyst',\n",
       "       'Machine Learning Software Engineer',\n",
       "       'Applied Machine Learning Scientist', 'Data Operations Engineer',\n",
       "       'Machine Learning Manager', 'Principal Machine Learning Engineer',\n",
       "       'Principal Data Engineer', 'Power BI Developer',\n",
       "       'Head of Data Science', 'Staff Machine Learning Engineer',\n",
       "       'Staff Data Scientist', 'Machine Learning Specialist',\n",
       "       'Business Intelligence Data Analyst', 'Data Modeller',\n",
       "       'Finance Data Analyst', 'Software Data Engineer',\n",
       "       'Compliance Data Analyst', 'Cloud Data Engineer',\n",
       "       'Analytics Engineering Manager', 'AWS Data Architect',\n",
       "       'Product Data Analyst', 'Data Visualization Analyst',\n",
       "       'Autonomous Vehicle Technician', 'Sales Data Analyst',\n",
       "       'Applied Machine Learning Engineer', 'BI Data Engineer',\n",
       "       'Deep Learning Researcher', 'Big Data Architect',\n",
       "       'Computer Vision Software Engineer', 'Marketing Data Engineer',\n",
       "       'Data Science Tech Lead', 'Data Scientist Lead',\n",
       "       'Marketing Data Analyst', 'Principal Data Architect',\n",
       "       'Data Analytics Engineer', 'Cloud Data Architect',\n",
       "       'Lead Data Engineer', 'Principal Data Analyst'], dtype=object)"
      ]
     },
     "execution_count": 51,
     "metadata": {},
     "output_type": "execute_result"
    }
   ],
   "source": [
    "df.job_title.unique()"
   ]
  },
  {
   "cell_type": "code",
   "execution_count": 52,
   "metadata": {},
   "outputs": [
    {
     "data": {
      "text/plain": [
       "77"
      ]
     },
     "execution_count": 52,
     "metadata": {},
     "output_type": "execute_result"
    }
   ],
   "source": [
    "df.company_location.nunique()"
   ]
  },
  {
   "cell_type": "code",
   "execution_count": 53,
   "metadata": {},
   "outputs": [
    {
     "data": {
      "text/plain": [
       "company_location\n",
       "US    14478\n",
       "GB      694\n",
       "CA      455\n",
       "ES      133\n",
       "DE      105\n",
       "      ...  \n",
       "AM        1\n",
       "QA        1\n",
       "AD        1\n",
       "EC        1\n",
       "MD        1\n",
       "Name: count, Length: 77, dtype: int64"
      ]
     },
     "execution_count": 53,
     "metadata": {},
     "output_type": "execute_result"
    }
   ],
   "source": [
    "df['company_location'].value_counts()"
   ]
  },
  {
   "cell_type": "code",
   "execution_count": 54,
   "metadata": {},
   "outputs": [
    {
     "data": {
      "text/plain": [
       "array(['AU', 'US', 'GB', 'CA', 'NL', 'LT', 'DK', 'FR', 'ZA', 'NZ', 'AR',\n",
       "       'ES', 'KE', 'LV', 'IN', 'DE', 'IL', 'FI', 'AT', 'BR', 'CH', 'AE',\n",
       "       'PL', 'SA', 'UA', 'EG', 'PH', 'TR', 'OM', 'MX', 'PT', 'BA', 'IT',\n",
       "       'AS', 'IE', 'EE', 'MT', 'HU', 'LB', 'RO', 'VN', 'NG', 'LU', 'GI',\n",
       "       'CO', 'SI', 'GR', 'MU', 'RU', 'KR', 'CZ', 'QA', 'GH', 'SE', 'AD',\n",
       "       'EC', 'NO', 'JP', 'HK', 'CF', 'SG', 'TH', 'HR', 'AM', 'PK', 'IR',\n",
       "       'BS', 'PR', 'BE', 'ID', 'MY', 'HN', 'DZ', 'IQ', 'CN', 'CL', 'MD'],\n",
       "      dtype=object)"
      ]
     },
     "execution_count": 54,
     "metadata": {},
     "output_type": "execute_result"
    }
   ],
   "source": [
    "df.company_location.unique()"
   ]
  },
  {
   "cell_type": "code",
   "execution_count": 55,
   "metadata": {},
   "outputs": [
    {
     "data": {
      "text/plain": [
       "3"
      ]
     },
     "execution_count": 55,
     "metadata": {},
     "output_type": "execute_result"
    }
   ],
   "source": [
    "df.company_size.nunique()"
   ]
  },
  {
   "cell_type": "code",
   "execution_count": 56,
   "metadata": {},
   "outputs": [
    {
     "data": {
      "text/plain": [
       "company_size\n",
       "M    15268\n",
       "L     1038\n",
       "S      188\n",
       "Name: count, dtype: int64"
      ]
     },
     "execution_count": 56,
     "metadata": {},
     "output_type": "execute_result"
    }
   ],
   "source": [
    "df['company_size'].value_counts()\n"
   ]
  }
 ],
 "metadata": {
  "kernelspec": {
   "display_name": "base",
   "language": "python",
   "name": "python3"
  },
  "language_info": {
   "codemirror_mode": {
    "name": "ipython",
    "version": 3
   },
   "file_extension": ".py",
   "mimetype": "text/x-python",
   "name": "python",
   "nbconvert_exporter": "python",
   "pygments_lexer": "ipython3",
   "version": "3.11.7"
  }
 },
 "nbformat": 4,
 "nbformat_minor": 2
}
